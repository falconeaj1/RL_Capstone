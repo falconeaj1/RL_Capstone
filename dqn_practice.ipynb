{
 "cells": [
  {
   "cell_type": "code",
   "execution_count": 16,
   "id": "f7377b5c-4277-485a-8f84-d784a48b8498",
   "metadata": {},
   "outputs": [],
   "source": [
    "from keras.models import Sequential\n",
    "from keras.layers import Dense, Dropout, Conv2D, MaxPooling2D, Activation, Flatten\n",
    "from keras.callbacks import TensorBoard\n",
    "from keras.optimizers import Adam\n",
    "from collections import deque\n",
    "import numpy as np\n",
    "\n",
    "import time\n",
    "import random\n",
    "import tensorflow as tf\n",
    "import os\n",
    "from tqdm import tqdm\n",
    "from PIL import Image\n",
    "import cv2\n",
    "import keras\n",
    "\n",
    "from blob import Blob, BlobEnv\n",
    "\n",
    "DISCOUNT = 0.99\n",
    "REPLAY_MEMORY_SIZE = 50_000  # How many last steps to keep for model training\n",
    "MIN_REPLAY_MEMORY_SIZE = 1_000  # Minimum number of steps in a memory to start training\n",
    "MINIBATCH_SIZE = 64  # How many steps (samples) to use for training\n",
    "UPDATE_TARGET_EVERY = 5  # Terminal states (end of episodes)\n",
    "MODEL_NAME = '2x256'\n",
    "MIN_REWARD = -200  # For model save\n",
    "MEMORY_FRACTION = 0.20\n",
    "\n",
    "# Environment settings\n",
    "EPISODES = 10\n",
    "\n",
    "# Exploration settings\n",
    "epsilon = 0  # not a constant, going to be decayed\n",
    "EPSILON_DECAY = 0.99975\n",
    "MIN_EPSILON = 0.001\n",
    "\n",
    "#  Stats settings\n",
    "AGGREGATE_STATS_EVERY = 5  # episodes\n",
    "SHOW_PREVIEW = True"
   ]
  },
  {
   "cell_type": "code",
   "execution_count": 32,
   "id": "bc871ade-19a4-4fcd-b0ed-f99e23d73f3d",
   "metadata": {},
   "outputs": [],
   "source": [
    "# Own Tensorboard class\n",
    "class ModifiedTensorBoard(TensorBoard):\n",
    "\n",
    "    # Overriding init to set initial step and writer (we want one log file for all .fit() calls)\n",
    "    def __init__(self, **kwargs):\n",
    "        super().__init__(**kwargs)\n",
    "        self.step = 1\n",
    "        \n",
    "        # OLD CODE\n",
    "        # AttributeError: module 'tensorboard.summary._tf.summary' has no attribute 'FileWriter' \n",
    "        # self.writer = tf.summary.FileWriter(self.log_dir)\n",
    "        \n",
    "        # FROM GITHUB FIX\n",
    "        self.writer = tf.summary.create_file_writer(self.log_dir)\n",
    "        self._log_write_dir = self.log_dir\n",
    "\n",
    "\n",
    "    # Overriding this method to stop creating default log writer\n",
    "    def set_model(self, model):\n",
    "        \n",
    "        # self.model = model\n",
    "        # self._train_dir = os.path.join(self._log_write_dir, 'train')\n",
    "        # self._train_step = self.model._train_counter\n",
    "        # self._val_dir = os.path.join(self._log_write_dir, 'validation')\n",
    "        # self._val_step = self.model._test_counter\n",
    "        # self._should_write_train_graph = False\n",
    "          \n",
    "        pass\n",
    "\n",
    "    # Overrided, saves logs with our step number\n",
    "    # (otherwise every .fit() will start writing from 0th step)\n",
    "    def on_epoch_end(self, epoch, logs=None):\n",
    "        self.update_stats(**logs)\n",
    "\n",
    "    # Overrided\n",
    "    # We train for one batch only, no need to save anything at epoch end\n",
    "    def on_batch_end(self, batch, logs=None):\n",
    "        pass\n",
    "\n",
    "    # Overrided, so won't close writer\n",
    "    def on_train_end(self, _):\n",
    "        pass\n",
    "\n",
    "    # Custom method for saving own metrics\n",
    "    # Creates writer, writes custom metrics and closes writer\n",
    "    def update_stats(self, **stats):\n",
    "        pass\n",
    "        # self._write_logs(stats, self.step)      \n",
    "        # with self.writer.as_default():\n",
    "        #     for key, value in stats.items():\n",
    "        #         tf.summary.scalar(key, value, step = self.step)\n",
    "        #         self.writer.flush()\n",
    "    \n",
    "    \n",
    "    \n",
    "# AttributeError: 'ModifiedTensorBoard' object has no attribute '_write_logs'\n",
    "\n",
    "    # GITHUB SOLUTION\n",
    "    def _write_logs(self, logs, index):\n",
    "        pass\n",
    "        # with self.writer.as_default():\n",
    "        #     for name, value in logs.items():\n",
    "        #         tf.summary.scalar(name, value, step=index)\n",
    "        #         self.step += 1\n",
    "        #         self.writer.flush()\n",
    "                \n",
    "# AttributeError: 'ModifiedTensorBoard' object has no attribute '_train_dir'\n",
    "\n",
    "                \n",
    "                \n",
    "                \n",
    "                \n",
    "# class ModifiedTensorBoard(TensorBoard):\n",
    "\n",
    "# def __init__(self, **kwargs):\n",
    "#     super().__init__(**kwargs)\n",
    "#     self.step = 1\n",
    "#     self.writer = tf.summary.create_file_writer(self.log_dir)\n",
    "#     self._log_write_dir = self.log_dir\n",
    "\n",
    "# def set_model(self, model):\n",
    "#     self.model = model\n",
    "\n",
    "#     self._train_dir = os.path.join(self._log_write_dir, 'train')\n",
    "#     self._train_step = self.model._train_counter\n",
    "\n",
    "#     self._val_dir = os.path.join(self._log_write_dir, 'validation')\n",
    "#     self._val_step = self.model._test_counter\n",
    "\n",
    "#     self._should_write_train_graph = False\n",
    "\n",
    "# def on_epoch_end(self, epoch, logs=None):\n",
    "#     self.update_stats(**logs)\n",
    "\n",
    "# def on_batch_end(self, batch, logs=None):\n",
    "#     pass\n",
    "\n",
    "# def on_train_end(self, _):\n",
    "#     pass\n",
    "\n",
    "# def update_stats(self, **stats):\n",
    "#     with self.writer.as_default():\n",
    "#         for key, value in stats.items():\n",
    "#             tf.summary.scalar(key, value, step = self.step)\n",
    "#             self.writer.flush()"
   ]
  },
  {
   "cell_type": "markdown",
   "id": "31ac313e-b24c-45f1-9d5d-1e395a9ac5d6",
   "metadata": {},
   "source": [
    "# ACTUAL CODE"
   ]
  },
  {
   "cell_type": "code",
   "execution_count": 26,
   "id": "cde05e90-3b1f-4b71-8e1d-6699fcf51426",
   "metadata": {},
   "outputs": [],
   "source": [
    "class DQNAgent:\n",
    "    def __init__(self):\n",
    "        # main model, gets trained every step\n",
    "        self.model = self.create_model()\n",
    "        \n",
    "        # used to predict every step\n",
    "        self.target_model = self.create_model()\n",
    "        self.target_model.set_weights(self.model.get_weights())\n",
    "        \n",
    "        self.replay_memory = deque(maxlen = REPLAY_MEMORY_SIZE)\n",
    "        \n",
    "        self.tensorboard = ModifiedTensorBoard(log_dir = f'logs/{MODEL_NAME}-{int(time.time())}')\n",
    "        \n",
    "        self.target_update_counter = 0\n",
    "        \n",
    "    def create_model(self):\n",
    "        model = Sequential()\n",
    "        model.add(Conv2D(256, (3,3), input_shape = env.OBSERVATION_SPACE_VALUES))\n",
    "        model.add(Activation('relu'))\n",
    "        model.add(MaxPooling2D(2,2))\n",
    "        model.add(Dropout(0.2))\n",
    "        \n",
    "        model.add(Conv2D(256, (3,3)))\n",
    "        model.add(Activation('relu'))\n",
    "        model.add(MaxPooling2D(2,2))\n",
    "        model.add(Dropout(0.2))\n",
    "        \n",
    "        model.add(Flatten())\n",
    "        model.add(Dense(64))\n",
    "        model.add(Dense(env.ACTION_SPACE_SIZE, activation = 'linear'))\n",
    "        \n",
    "        model.compile(loss = 'mse', optimizer = Adam(learning_rate= 0.001), metrics = ['accuracy'])\n",
    "        \n",
    "        return model\n",
    "    def update_replay_memory(self, transition):\n",
    "        self.replay_memory.append(transition)\n",
    "    def get_qs(self, state):\n",
    "        return self.model.predict(np.array(state).reshape(-1, *state.shape)/255)[0]\n",
    "    def train(self, terminal_state, step):\n",
    "        # Start training only if certain number of samples is already saved\n",
    "        if len(self.replay_memory) < MIN_REPLAY_MEMORY_SIZE:\n",
    "            return\n",
    "        # Get a minibatch of random samples from memory replay table\n",
    "        minibatch = random.sample(self.replay_memory, MINIBATCH_SIZE)\n",
    "\n",
    "        # Get current states from minibatch, then query NN model for Q values\n",
    "        current_states = np.array([transition[0] for transition in minibatch])/255\n",
    "        current_qs_list = self.model.predict(current_states)\n",
    "\n",
    "        # Get future states from minibatch, then query NN model for Q values\n",
    "        # When using target network, query it, otherwise main network should be queried\n",
    "        new_current_states = np.array([transition[3] for transition in minibatch])/255\n",
    "        future_qs_list = self.target_model.predict(new_current_states)\n",
    "        \n",
    "        \n",
    "        \n",
    "        X = []\n",
    "        y = []\n",
    "\n",
    "        # Now we need to enumerate our batches\n",
    "        for index, (current_state, action, reward, new_current_state, done) in enumerate(minibatch):\n",
    "\n",
    "            # If not a terminal state, get new q from future states, otherwise set it to 0\n",
    "            # almost like with Q Learning, but we use just part of equation here\n",
    "            if not done:\n",
    "                max_future_q = np.max(future_qs_list[index])\n",
    "                new_q = reward + DISCOUNT * max_future_q\n",
    "            else:\n",
    "                new_q = reward\n",
    "\n",
    "            # Update Q value for given state\n",
    "            current_qs = current_qs_list[index]\n",
    "            current_qs[action] = new_q\n",
    "\n",
    "            # And append to our training data\n",
    "            X.append(current_state)\n",
    "            y.append(current_qs)\n",
    "\n",
    "        # Fit on all samples as one batch, log only on terminal state\n",
    "        self.model.fit(np.array(X)/255, np.array(y), batch_size=MINIBATCH_SIZE, verbose=0, shuffle=False, callbacks=[self.tensorboard] if terminal_state else None)\n",
    "        \n",
    "        \n",
    "        # Update target network counter every episode\n",
    "        if terminal_state:\n",
    "            self.target_update_counter += 1\n",
    "\n",
    "        # If counter reaches set value, update target network with weights of main network\n",
    "        if self.target_update_counter > UPDATE_TARGET_EVERY:\n",
    "            self.target_model.set_weights(self.model.get_weights())\n",
    "            self.target_update_counter = 0\n",
    "            \n",
    "            \n"
   ]
  },
  {
   "cell_type": "code",
   "execution_count": 27,
   "id": "fee91655-bfe2-4539-9265-672d22509ea7",
   "metadata": {},
   "outputs": [],
   "source": [
    "env = BlobEnv()\n",
    "\n",
    "# For stats\n",
    "# WHY IS THIS [-200]????\n",
    "ep_rewards = [-200]\n",
    "\n",
    "# For more repetitive results\n",
    "random.seed(1)\n",
    "np.random.seed(1)\n",
    "# tf.set_random_seed(1)\n",
    "tf.random.set_seed(1)\n",
    "\n",
    "# Create models folder\n",
    "if not os.path.isdir('models'):\n",
    "    os.makedirs('models')"
   ]
  },
  {
   "cell_type": "code",
   "execution_count": 28,
   "id": "2e12ef12-bdd4-416f-a6d6-4ae3c5fe4935",
   "metadata": {},
   "outputs": [
    {
     "name": "stderr",
     "output_type": "stream",
     "text": [
      "2022-10-24 11:09:32.851958: I tensorflow/core/platform/cpu_feature_guard.cc:193] This TensorFlow binary is optimized with oneAPI Deep Neural Network Library (oneDNN) to use the following CPU instructions in performance-critical operations:  SSE4.1 SSE4.2\n",
      "To enable them in other operations, rebuild TensorFlow with the appropriate compiler flags.\n"
     ]
    }
   ],
   "source": [
    "agent = DQNAgent()"
   ]
  },
  {
   "cell_type": "code",
   "execution_count": 29,
   "id": "44a371d7-05ad-4ccd-b268-d8ae6a957615",
   "metadata": {},
   "outputs": [
    {
     "data": {
      "text/plain": [
       "<keras.engine.sequential.Sequential at 0x7f965ca6b970>"
      ]
     },
     "execution_count": 29,
     "metadata": {},
     "output_type": "execute_result"
    }
   ],
   "source": [
    "agent.model"
   ]
  },
  {
   "cell_type": "code",
   "execution_count": 30,
   "id": "7a110883-0ca9-4867-a665-289807f18afc",
   "metadata": {},
   "outputs": [],
   "source": [
    "agent.model = keras.models.load_model(\"models/2x256____25.00max_-184.30avg_-443.00min__1666598499.model\")"
   ]
  },
  {
   "cell_type": "code",
   "execution_count": 31,
   "id": "8601aed2-3f47-45ad-9ee2-48e65a0c5389",
   "metadata": {},
   "outputs": [
    {
     "data": {
      "text/plain": [
       "<keras.engine.sequential.Sequential at 0x7f96683ee130>"
      ]
     },
     "execution_count": 31,
     "metadata": {},
     "output_type": "execute_result"
    }
   ],
   "source": [
    "agent.model"
   ]
  },
  {
   "cell_type": "code",
   "execution_count": 15,
   "id": "7ab67baa-f482-4c07-a673-8ea63562ff9a",
   "metadata": {
    "scrolled": true,
    "tags": []
   },
   "outputs": [
    {
     "ename": "NameError",
     "evalue": "name 'tqdm' is not defined",
     "output_type": "error",
     "traceback": [
      "\u001b[0;31m---------------------------------------------------------------------------\u001b[0m",
      "\u001b[0;31mNameError\u001b[0m                                 Traceback (most recent call last)",
      "Cell \u001b[0;32mIn [15], line 2\u001b[0m\n\u001b[1;32m      1\u001b[0m \u001b[38;5;66;03m# Iterate over episodes\u001b[39;00m\n\u001b[0;32m----> 2\u001b[0m \u001b[38;5;28;01mfor\u001b[39;00m episode \u001b[38;5;129;01min\u001b[39;00m tqdm(\u001b[38;5;28mrange\u001b[39m(\u001b[38;5;241m1\u001b[39m, EPISODES \u001b[38;5;241m+\u001b[39m \u001b[38;5;241m1\u001b[39m), ascii\u001b[38;5;241m=\u001b[39m\u001b[38;5;28;01mTrue\u001b[39;00m, unit\u001b[38;5;241m=\u001b[39m\u001b[38;5;124m'\u001b[39m\u001b[38;5;124mepisodes\u001b[39m\u001b[38;5;124m'\u001b[39m):\n\u001b[1;32m      3\u001b[0m     \u001b[38;5;66;03m# Update tensorboard step every episode\u001b[39;00m\n\u001b[1;32m      4\u001b[0m     agent\u001b[38;5;241m.\u001b[39mtensorboard\u001b[38;5;241m.\u001b[39mstep \u001b[38;5;241m=\u001b[39m episode\n\u001b[1;32m      6\u001b[0m     \u001b[38;5;66;03m# Restarting episode - reset episode reward and step number\u001b[39;00m\n",
      "\u001b[0;31mNameError\u001b[0m: name 'tqdm' is not defined"
     ]
    }
   ],
   "source": [
    "# Iterate over episodes\n",
    "for episode in tqdm(range(1, EPISODES + 1), ascii=True, unit='episodes'):\n",
    "    # Update tensorboard step every episode\n",
    "    agent.tensorboard.step = episode\n",
    "\n",
    "    # Restarting episode - reset episode reward and step number\n",
    "    episode_reward = 0\n",
    "    step = 1\n",
    "\n",
    "    # Reset environment and get initial state\n",
    "    current_state = env.reset()\n",
    "    # Reset flag and start iterating until episode ends\n",
    "    done = False\n",
    "    while not done:\n",
    "\n",
    "        # This part stays mostly the same, the change is to query a model for Q values\n",
    "        if np.random.random() > epsilon:\n",
    "            # Get action from Q table\n",
    "            action = np.argmax(agent.get_qs(current_state))\n",
    "        else:\n",
    "            # Get random action\n",
    "            action = np.random.randint(0, env.ACTION_SPACE_SIZE)\n",
    "\n",
    "        new_state, reward, done = env.step(action)\n",
    "        \n",
    "        # Transform new continous state to new discrete state and count reward\n",
    "        episode_reward += reward\n",
    "\n",
    "        if SHOW_PREVIEW and not episode % AGGREGATE_STATS_EVERY:\n",
    "            env.render()\n",
    "\n",
    "        # Every step we update replay memory and train main network\n",
    "        agent.update_replay_memory((current_state, action, reward, new_state, done))\n",
    "        agent.train(done, step)\n",
    "        current_state = new_state\n",
    "        step += 1\n",
    "        \n",
    "        \n",
    "        \n",
    "    # Append episode reward to a list and log stats (every given number of episodes)\n",
    "    ep_rewards.append(episode_reward)\n",
    "    if not episode % AGGREGATE_STATS_EVERY or episode == 1:\n",
    "        average_reward = sum(ep_rewards[-AGGREGATE_STATS_EVERY:])/len(ep_rewards[-AGGREGATE_STATS_EVERY:])\n",
    "        min_reward = min(ep_rewards[-AGGREGATE_STATS_EVERY:])\n",
    "        max_reward = max(ep_rewards[-AGGREGATE_STATS_EVERY:])\n",
    "        agent.tensorboard.update_stats(reward_avg=average_reward, reward_min=min_reward, reward_max=max_reward, epsilon=epsilon)\n",
    "\n",
    "        # Save model, but only when min reward is greater or equal a set value\n",
    "        if average_reward >= MIN_REWARD:\n",
    "            agent.model.save(f'models/{MODEL_NAME}__{max_reward:_>7.2f}max_{average_reward:_>7.2f}avg_{min_reward:_>7.2f}min__{int(time.time())}.model')\n",
    "    # Decay epsilon\n",
    "    if epsilon > MIN_EPSILON:\n",
    "        epsilon *= EPSILON_DECAY\n",
    "        epsilon = max(MIN_EPSILON, epsilon)\n"
   ]
  },
  {
   "cell_type": "code",
   "execution_count": 10,
   "id": "c9190deb-af6f-41b6-bbb7-bfeac7c3b08f",
   "metadata": {},
   "outputs": [
    {
     "data": {
      "text/plain": [
       "2"
      ]
     },
     "execution_count": 10,
     "metadata": {},
     "output_type": "execute_result"
    }
   ],
   "source": [
    "1+1"
   ]
  },
  {
   "cell_type": "code",
   "execution_count": null,
   "id": "9f7caee1-11df-40af-bced-4204ef2bde98",
   "metadata": {},
   "outputs": [],
   "source": []
  },
  {
   "cell_type": "code",
   "execution_count": null,
   "id": "720364fb-a316-4f2b-b86e-7af9d2420002",
   "metadata": {},
   "outputs": [],
   "source": []
  },
  {
   "cell_type": "code",
   "execution_count": null,
   "id": "18e53408-540d-413e-847a-7a2dcb44f42b",
   "metadata": {},
   "outputs": [],
   "source": [
    "x = deque(maxlen = 3)\n",
    "x"
   ]
  },
  {
   "cell_type": "code",
   "execution_count": null,
   "id": "c8aa0b4e-8b67-4b9b-b91b-2d0365d80f70",
   "metadata": {},
   "outputs": [],
   "source": [
    "x.append(3)"
   ]
  },
  {
   "cell_type": "code",
   "execution_count": null,
   "id": "1880d1b6-8c2e-4589-99d6-6bf232315b29",
   "metadata": {},
   "outputs": [],
   "source": [
    "from functools import reduce\n",
    "primes = [2, 3, 5, 7, 11, 13]\n",
    "def product(*numbers):\n",
    "    print(f'numbers = {numbers}')\n",
    "    p = reduce(lambda x, y: x * y, numbers)\n",
    "    return p \n",
    "product(*[2,3,4])"
   ]
  },
  {
   "cell_type": "code",
   "execution_count": null,
   "id": "49f96733-b32f-4898-af5e-9472184cad8d",
   "metadata": {},
   "outputs": [],
   "source": []
  },
  {
   "cell_type": "code",
   "execution_count": null,
   "id": "ff078e39-ce2b-404b-840c-61425277b565",
   "metadata": {},
   "outputs": [],
   "source": [
    "x"
   ]
  },
  {
   "cell_type": "code",
   "execution_count": null,
   "id": "e2845230-a4c0-47ca-99a1-2f1ce74747ed",
   "metadata": {},
   "outputs": [],
   "source": [
    "x.append('5')"
   ]
  },
  {
   "cell_type": "code",
   "execution_count": null,
   "id": "a699db38-b2ed-4cfd-b0c9-c5b2b950e6f2",
   "metadata": {},
   "outputs": [],
   "source": [
    "x"
   ]
  },
  {
   "cell_type": "code",
   "execution_count": null,
   "id": "df40c247-369e-4028-aa5a-09822ed6cd7b",
   "metadata": {},
   "outputs": [],
   "source": [
    "x.append((1,2))"
   ]
  },
  {
   "cell_type": "code",
   "execution_count": null,
   "id": "fc978ee2-b0d6-4a54-8e06-5e3bdf7cd5e1",
   "metadata": {},
   "outputs": [],
   "source": [
    "x"
   ]
  },
  {
   "cell_type": "code",
   "execution_count": null,
   "id": "5bc2b322-49ab-4955-bf79-2931ad7e88e0",
   "metadata": {},
   "outputs": [],
   "source": [
    "x.append('hi')"
   ]
  },
  {
   "cell_type": "code",
   "execution_count": null,
   "id": "b9efb304-026b-4b7d-823d-b520bdb9c1c1",
   "metadata": {},
   "outputs": [],
   "source": [
    "x"
   ]
  },
  {
   "cell_type": "code",
   "execution_count": null,
   "id": "3ae1b86c-b2f8-44f5-bfdc-0b9ea4a20750",
   "metadata": {},
   "outputs": [],
   "source": [
    "x.append(x)"
   ]
  },
  {
   "cell_type": "code",
   "execution_count": null,
   "id": "fe4860b7-17e4-4a25-be68-d11bf4e27cdf",
   "metadata": {},
   "outputs": [],
   "source": [
    "x"
   ]
  },
  {
   "cell_type": "code",
   "execution_count": null,
   "id": "8213f862-a35a-4ba2-b706-29447c7a2b64",
   "metadata": {},
   "outputs": [],
   "source": [
    "x[2][2][2]"
   ]
  },
  {
   "cell_type": "code",
   "execution_count": null,
   "id": "8404ace0-60b5-45d1-9576-45b9de9c9e82",
   "metadata": {},
   "outputs": [],
   "source": []
  }
 ],
 "metadata": {
  "kernelspec": {
   "display_name": "Python [conda env:workingRL2]",
   "language": "python",
   "name": "conda-env-workingRL2-py"
  },
  "language_info": {
   "codemirror_mode": {
    "name": "ipython",
    "version": 3
   },
   "file_extension": ".py",
   "mimetype": "text/x-python",
   "name": "python",
   "nbconvert_exporter": "python",
   "pygments_lexer": "ipython3",
   "version": "3.9.13"
  }
 },
 "nbformat": 4,
 "nbformat_minor": 5
}
