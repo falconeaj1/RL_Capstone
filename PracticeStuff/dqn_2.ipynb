{
 "cells": [
  {
   "cell_type": "code",
   "execution_count": 12,
   "id": "f7377b5c-4277-485a-8f84-d784a48b8498",
   "metadata": {},
   "outputs": [],
   "source": [
    "from keras.models import Sequential\n",
    "from keras.layers import Dense\n",
    "from keras.callbacks import TensorBoard\n",
    "from keras.optimizers import Adam\n",
    "from collections import deque\n",
    "import numpy as np\n",
    "\n",
    "import time\n",
    "import random\n",
    "import tensorflow as tf\n",
    "import os\n",
    "from tqdm import tqdm\n",
    "from PIL import Image\n",
    "import cv2\n",
    "import keras\n",
    "\n",
    "from blob import Blob, BlobEnv\n",
    "\n"
   ]
  },
  {
   "cell_type": "code",
   "execution_count": 13,
   "id": "9e0dc537-814e-4772-83ae-1213be9f5186",
   "metadata": {},
   "outputs": [],
   "source": [
    "best_avg_award = -201  # For model save, beat score to save initially\n"
   ]
  },
  {
   "cell_type": "code",
   "execution_count": 22,
   "id": "a7f55de2-6ecc-4fa9-9cf4-6354e47b8721",
   "metadata": {},
   "outputs": [],
   "source": [
    "DISCOUNT = 0.99\n",
    "REPLAY_MEMORY_SIZE = 10_000  # How many last steps to keep for model training\n",
    "MIN_REPLAY_MEMORY_SIZE = 1_000  # Minimum number of steps in a memory to start training\n",
    "MINIBATCH_SIZE = 32  # How many steps (samples) to use for training\n",
    "UPDATE_TARGET_EVERY = 2  # every 5 episodes (usually steps I guess)\n",
    "MODEL_NAME = 'v3' #NOT SURE BOUT THIS\n",
    "\n",
    "# Environment settings\n",
    "EPISODES = 1000\n",
    "# Exploration settings\n",
    "epsilon = 1  # not a constant, going to be decayed\n",
    "percent_to_min = 0.95\n",
    "MIN_EPSILON = 0.1\n",
    "\n",
    "\n",
    "\n",
    "# x^(num_episodes*0.8) = min_val\n",
    "# log(x) * (n*0.8) = log(min_val)\n",
    "# x = exp(log(min_val)/(n*0.8))\n",
    "EPSILON_DECAY = np.exp(np.log(MIN_EPSILON)/(EPISODES*percent_to_min))\n",
    "\n",
    "#  Stats settings\n",
    "AGGREGATE_STATS_EVERY = 100  # episodes to record stats AND render\n",
    "SHOW_PREVIEW = False\n",
    "\n",
    "\n",
    "\n",
    "# epsilon start at 100%\n",
    "# move towards min_eps by episode k out of n\n"
   ]
  },
  {
   "cell_type": "code",
   "execution_count": 15,
   "id": "bc871ade-19a4-4fcd-b0ed-f99e23d73f3d",
   "metadata": {},
   "outputs": [],
   "source": [
    "# Own Tensorboard class\n",
    "class ModifiedTensorBoard(TensorBoard):\n",
    "\n",
    "    # Overriding init to set initial step and writer (we want one log file for all .fit() calls)\n",
    "    def __init__(self, **kwargs):\n",
    "        super().__init__(**kwargs)\n",
    "        self.step = 1\n",
    "        \n",
    "        # OLD CODE\n",
    "        # AttributeError: module 'tensorboard.summary._tf.summary' has no attribute 'FileWriter' \n",
    "        # self.writer = tf.summary.FileWriter(self.log_dir)\n",
    "        \n",
    "        # FROM GITHUB FIX\n",
    "        self.writer = tf.summary.create_file_writer(self.log_dir)\n",
    "        self._log_write_dir = self.log_dir\n",
    "\n",
    "\n",
    "    # Overriding this method to stop creating default log writer\n",
    "    def set_model(self, model):\n",
    "        \n",
    "        # original version\n",
    "        # pass\n",
    "        \n",
    "        # code from somewhere else to fix something?\n",
    "        # WHY USE set_model instead of just saying mod_ten_board.model = ...???\n",
    "        self.model = model\n",
    "        self._train_dir = os.path.join(self._log_write_dir, 'train')\n",
    "        self._train_step = self.model._train_counter\n",
    "        self._val_dir = os.path.join(self._log_write_dir, 'validation')\n",
    "        self._val_step = self.model._test_counter\n",
    "        self._should_write_train_graph = False\n",
    "          \n",
    "        \n",
    "\n",
    "    # Overrided, saves logs with our step number\n",
    "    # (otherwise every .fit() will start writing from 0th step)\n",
    "    \n",
    "    # ??? NOT SURE WHAT THAT MEANS ABOVE ???\n",
    "    def on_epoch_end(self, epoch, logs=None):\n",
    "        self.update_stats(**logs)\n",
    "\n",
    "        \n",
    "        \n",
    "    # Overrided\n",
    "    # We train for one batch only, no need to save anything at epoch end\n",
    "    def on_batch_end(self, batch, logs=None):\n",
    "        pass\n",
    "\n",
    "    \n",
    "    \n",
    "    \n",
    "    \n",
    "    # Overrided, so won't close writer\n",
    "    def on_train_end(self, _):\n",
    "        pass\n",
    "\n",
    "    \n",
    "    \n",
    "    \n",
    "    # Custom method for saving own metrics\n",
    "    # Creates writer, writes custom metrics and closes writer\n",
    "    def update_stats(self, **stats):\n",
    "        # original version here\n",
    "        # pass\n",
    "        \n",
    "        self._write_logs(stats, self.step)      \n",
    "        with self.writer.as_default():\n",
    "            for key, value in stats.items():\n",
    "                tf.summary.scalar(key, value, step = self.step)\n",
    "                self.writer.flush()\n",
    "    \n",
    "    \n",
    "    \n",
    "# AttributeError: 'ModifiedTensorBoard' object has no attribute '_write_logs'\n",
    "\n",
    "    # GITHUB SOLUTION\n",
    "    def _write_logs(self, logs, index):\n",
    "        pass\n",
    "        # with self.writer.as_default():\n",
    "        #     for name, value in logs.items():\n",
    "        #         tf.summary.scalar(name, value, step=index)\n",
    "        #         self.step += 1\n",
    "        #         self.writer.flush()\n",
    "                \n",
    "# AttributeError: 'ModifiedTensorBoard' object has no attribute '_train_dir'\n",
    "\n",
    "                \n",
    "                \n",
    "                \n",
    "                \n",
    "# class ModifiedTensorBoard(TensorBoard):\n",
    "\n",
    "# def __init__(self, **kwargs):\n",
    "#     super().__init__(**kwargs)\n",
    "#     self.step = 1\n",
    "#     self.writer = tf.summary.create_file_writer(self.log_dir)\n",
    "#     self._log_write_dir = self.log_dir\n",
    "\n",
    "# def set_model(self, model):\n",
    "#     self.model = model\n",
    "\n",
    "#     self._train_dir = os.path.join(self._log_write_dir, 'train')\n",
    "#     self._train_step = self.model._train_counter\n",
    "\n",
    "#     self._val_dir = os.path.join(self._log_write_dir, 'validation')\n",
    "#     self._val_step = self.model._test_counter\n",
    "\n",
    "#     self._should_write_train_graph = False\n",
    "\n",
    "# def on_epoch_end(self, epoch, logs=None):\n",
    "#     self.update_stats(**logs)\n",
    "\n",
    "# def on_batch_end(self, batch, logs=None):\n",
    "#     pass\n",
    "\n",
    "# def on_train_end(self, _):\n",
    "#     pass\n",
    "\n",
    "# def update_stats(self, **stats):\n",
    "#     with self.writer.as_default():\n",
    "#         for key, value in stats.items():\n",
    "#             tf.summary.scalar(key, value, step = self.step)\n",
    "#             self.writer.flush()"
   ]
  },
  {
   "cell_type": "code",
   "execution_count": 23,
   "id": "cde05e90-3b1f-4b71-8e1d-6699fcf51426",
   "metadata": {},
   "outputs": [],
   "source": [
    "class DQNAgent:\n",
    "    STATE_SIZE = 4\n",
    "    MODEL_INPUT_SIZE = (-1,1, STATE_SIZE) # -1 for number of samples\n",
    "    def __init__(self):\n",
    "        # main model, gets trained every step\n",
    "        self.model = self.create_model()\n",
    "        \n",
    "        # used to predict every step\n",
    "        self.target_model = self.create_model()\n",
    "        self.target_model.set_weights(self.model.get_weights())\n",
    "        self.replay_memory = deque(maxlen = REPLAY_MEMORY_SIZE)\n",
    "        self.tensorboard = ModifiedTensorBoard(log_dir = f'logs/{MODEL_NAME}-{int(time.time())}')\n",
    "        self.target_update_counter = 0\n",
    "        \n",
    "    def create_model(self):\n",
    "        model = Sequential()\n",
    "        \n",
    "        model.add(Dense(4, input_shape=(1,self.STATE_SIZE), activation='relu'))\n",
    "        # model.add(Dense(8, activation='relu'))\n",
    "        # model.add(Dense(4, activation='relu'))\n",
    "\n",
    "        model.add(Dense(env.ACTION_SPACE_SIZE, activation = 'linear'))\n",
    "        \n",
    "        # ORIGINAL WITH IMAGES\n",
    "        # model.add((256, (3,3), input_shape = env.OBSERVATION_SPACE_VALUES))\n",
    "#         model.add(Activation('relu'))\n",
    "#         model.add(MaxPooling2D((2,2),2))\n",
    "#         model.add(Dropout(0.2))\n",
    "        \n",
    "#         model.add(Conv2D(256, (3,3), activation='relu'))\n",
    "#         model.add(Activation('relu'))\n",
    "#         model.add(MaxPooling2D(2,2))\n",
    "#         model.add(Dropout(0.2))\n",
    "        \n",
    "#         model.add(Flatten())\n",
    "        # model.add(Dense(64))\n",
    "        # model.add(Dense(env.ACTION_SPACE_SIZE, activation = 'linear'))\n",
    "        \n",
    "        model.compile(loss = 'mse', optimizer = Adam(learning_rate= 0.001), metrics = ['accuracy'])\n",
    "        return model\n",
    "    \n",
    "    \n",
    "    \n",
    "    def update_replay_memory(self, transition):\n",
    "        self.replay_memory.append(transition)\n",
    "    def get_qs(self, state):\n",
    "            \n",
    "        # predict returns array for multiple predictions -> 0 index after\n",
    "        \n",
    "        s = np.array(state).reshape(self.MODEL_INPUT_SIZE)\n",
    "        return self.model.predict(np.array(s), verbose = 0)[0] \n",
    "    \n",
    "    def train(self):\n",
    "        # Start training only if certain number of samples is already saved\n",
    "        if len(self.replay_memory) < MIN_REPLAY_MEMORY_SIZE:\n",
    "            return\n",
    "        # Get a minibatch of random samples from memory replay table\n",
    "        minibatch = random.sample(self.replay_memory, MINIBATCH_SIZE)\n",
    "\n",
    "        # Get current states from minibatch, then query NN model for Q values\n",
    "        current_states = np.array([transition[0] for transition in minibatch]).reshape(self.MODEL_INPUT_SIZE)\n",
    "        # Get future states from minibatch, then query NN model for Q values\n",
    "        # When using target network, query it, otherwise main network should be queried\n",
    "        new_current_states = np.array([transition[3] for transition in minibatch]).reshape(self.MODEL_INPUT_SIZE)\n",
    "        \n",
    "        current_qs_list = self.model.predict(current_states, verbose = 0)\n",
    "        future_qs_list = self.target_model.predict(new_current_states, verbose = 0)\n",
    "        \n",
    "#         print(f'cur_qs_list has shape {current_qs_list.shape}')\n",
    "#         print(f'new_qs_list has shape {future_qs_list.shape}')\n",
    "    \n",
    "        \n",
    "        \n",
    "        \n",
    "        X = []\n",
    "        y = []\n",
    "\n",
    "        # Now we need to enumerate our batches\n",
    "        for index, (current_state, action, reward, new_current_state, done) in enumerate(minibatch):\n",
    "\n",
    "            # If not a done state, get new q from future states, otherwise set it to 0\n",
    "            # almost like with Q Learning, but we use just part of equation here\n",
    "            if not done:\n",
    "                max_future_q = np.max(future_qs_list[index])\n",
    "                new_q = reward + DISCOUNT * max_future_q\n",
    "            else:\n",
    "                new_q = reward\n",
    "\n",
    "            # Update Q value for given state\n",
    "            current_qs = current_qs_list[index]\n",
    "            # print(f'current_qs_list shape = {current_qs_list.shape}')\n",
    "            # print(f'current qs shape = {current_qs.shape}')\n",
    "            # print(f'new q = {new_q}')\n",
    "            # print(f'action = {action}')\n",
    "            current_qs[0,action] = new_q\n",
    "\n",
    "            # And append to our training data\n",
    "            X.append(current_state)\n",
    "            y.append(current_qs)\n",
    "\n",
    "        \n",
    "        # Update target network counter every episode\n",
    "        self.target_update_counter += 1\n",
    "        \n",
    "        \n",
    "        # Fit on all samples as one batch, log only on terminal state\n",
    "        # print('HERE!')\n",
    "        self.model.fit(np.array(X).reshape(self.MODEL_INPUT_SIZE), np.array(y), \n",
    "                       batch_size=MINIBATCH_SIZE, \n",
    "                       verbose=0, shuffle=False, \n",
    "                       callbacks=[self.tensorboard] if self.target_update_counter % UPDATE_TARGET_EVERY == 0 else None)\n",
    "        \n",
    "        \n",
    "        \n",
    "\n",
    "        # If counter reaches set value, update target network with weights of main network\n",
    "        if self.target_update_counter >= UPDATE_TARGET_EVERY:\n",
    "            self.target_model.set_weights(self.model.get_weights())\n",
    "            self.target_update_counter = 0\n",
    "            \n",
    "            \n"
   ]
  },
  {
   "cell_type": "code",
   "execution_count": 24,
   "id": "2e12ef12-bdd4-416f-a6d6-4ae3c5fe4935",
   "metadata": {},
   "outputs": [],
   "source": [
    "env = BlobEnv()\n",
    "agent = DQNAgent()"
   ]
  },
  {
   "cell_type": "code",
   "execution_count": 8,
   "id": "a9b04baa-6811-419a-b6d1-9d2af7ef5774",
   "metadata": {},
   "outputs": [],
   "source": [
    "# most_recent_model = 'models/v2____24.00max_-199.32avg_-486.00min__1667200184.model'\n",
    "# agent.model.set_weights(keras.models.load_model(most_recent_model).get_weights())"
   ]
  },
  {
   "cell_type": "code",
   "execution_count": 9,
   "id": "c3c7daab-431a-4977-a95e-111a0793eb75",
   "metadata": {},
   "outputs": [],
   "source": [
    "# different model structure using 6 states\n",
    "# most_recent_model = 'models/simple____25.00max_-104.08avg_-478.00min__1667070188.model'\n",
    "# agent.model.set_weights(keras.models.load_model(most_recent_model).get_weights())\n",
    "# agent.target_model.set_weights((keras.models.load_model(most_recent_model).get_weights()))"
   ]
  },
  {
   "cell_type": "code",
   "execution_count": 10,
   "id": "85ec7de1-49c0-465e-a502-8f3940807a1b",
   "metadata": {},
   "outputs": [],
   "source": [
    "# Image.fromarray(board, 'RGB') \n",
    "# cv2.cvtColor(img, cv2.  COLOR_BGR2RGB)"
   ]
  },
  {
   "cell_type": "code",
   "execution_count": 25,
   "id": "7ab67baa-f482-4c07-a673-8ea63562ff9a",
   "metadata": {
    "tags": []
   },
   "outputs": [
    {
     "name": "stderr",
     "output_type": "stream",
     "text": [
      "  1%|2                                   | 7/1000 [00:00<00:17, 57.14episodes/s]"
     ]
    },
    {
     "name": "stdout",
     "output_type": "stream",
     "text": [
      "episode = 1: (min,avg,best) = (-376,-376.0, -376).\n",
      "\tepsilon = 1\n"
     ]
    },
    {
     "name": "stderr",
     "output_type": "stream",
     "text": [
      " 10%|###4                              | 100/1000 [00:32<10:04,  1.49episodes/s]"
     ]
    },
    {
     "name": "stdout",
     "output_type": "stream",
     "text": [
      "episode = 100: (min,avg,best) = (-574,-235.23, 25).\n",
      "\tepsilon = 0.7866643579629186\n"
     ]
    },
    {
     "name": "stderr",
     "output_type": "stream",
     "text": [
      " 20%|######8                           | 200/1000 [01:43<15:34,  1.17s/episodes]"
     ]
    },
    {
     "name": "stdout",
     "output_type": "stream",
     "text": [
      "episode = 200: (min,avg,best) = (-582,-271.88, 23).\n",
      "\tepsilon = 0.6173426982315325\n"
     ]
    },
    {
     "name": "stderr",
     "output_type": "stream",
     "text": [
      " 30%|##########2                       | 300/1000 [04:00<09:05,  1.28episodes/s]"
     ]
    },
    {
     "name": "stdout",
     "output_type": "stream",
     "text": [
      "episode = 300: (min,avg,best) = (-492,-258.17, 24).\n",
      "\tepsilon = 0.48446583756087014\n"
     ]
    },
    {
     "name": "stderr",
     "output_type": "stream",
     "text": [
      " 40%|#############6                    | 400/1000 [06:35<11:55,  1.19s/episodes]"
     ]
    },
    {
     "name": "stdout",
     "output_type": "stream",
     "text": [
      "episode = 400: (min,avg,best) = (-528,-238.01, 23).\n",
      "\tepsilon = 0.38018939632056514\n"
     ]
    },
    {
     "name": "stderr",
     "output_type": "stream",
     "text": [
      " 50%|#################                 | 500/1000 [09:07<10:02,  1.21s/episodes]"
     ]
    },
    {
     "name": "stdout",
     "output_type": "stream",
     "text": [
      "episode = 500: (min,avg,best) = (-553,-246.06, 25).\n",
      "\tepsilon = 0.2983574193844677\n"
     ]
    },
    {
     "name": "stderr",
     "output_type": "stream",
     "text": [
      " 60%|####################4             | 600/1000 [11:53<11:58,  1.80s/episodes]"
     ]
    },
    {
     "name": "stdout",
     "output_type": "stream",
     "text": [
      "episode = 600: (min,avg,best) = (-564,-237.09, 25).\n",
      "\tepsilon = 0.2341389595902939\n"
     ]
    },
    {
     "name": "stderr",
     "output_type": "stream",
     "text": [
      " 70%|#######################7          | 700/1000 [15:26<06:39,  1.33s/episodes]"
     ]
    },
    {
     "name": "stdout",
     "output_type": "stream",
     "text": [
      "episode = 700: (min,avg,best) = (-512,-245.47, 24).\n",
      "\tepsilon = 0.18374288298620148\n"
     ]
    },
    {
     "name": "stderr",
     "output_type": "stream",
     "text": [
      " 80%|###########################2      | 800/1000 [19:29<08:27,  2.54s/episodes]"
     ]
    },
    {
     "name": "stdout",
     "output_type": "stream",
     "text": [
      "episode = 800: (min,avg,best) = (-510,-248.41, 25).\n",
      "\tepsilon = 0.144194059404544\n"
     ]
    },
    {
     "name": "stderr",
     "output_type": "stream",
     "text": [
      " 90%|##############################6   | 900/1000 [23:53<04:02,  2.42s/episodes]"
     ]
    },
    {
     "name": "stdout",
     "output_type": "stream",
     "text": [
      "episode = 900: (min,avg,best) = (-564,-258.95, 24).\n",
      "\tepsilon = 0.11315772578316718\n"
     ]
    },
    {
     "name": "stderr",
     "output_type": "stream",
     "text": [
      "100%|#################################| 1000/1000 [27:59<00:00,  1.68s/episodes]"
     ]
    },
    {
     "name": "stdout",
     "output_type": "stream",
     "text": [
      "episode = 1000: (min,avg,best) = (-544,-261.17, 25).\n",
      "\tepsilon = 0.1\n"
     ]
    },
    {
     "name": "stderr",
     "output_type": "stream",
     "text": [
      "\n"
     ]
    }
   ],
   "source": [
    "\n",
    "# For stats\n",
    "# WHY IS THIS [-200]????, changed to empty list\n",
    "epsilon = 1  # not a constant, going to be decayed\n",
    "ep_rewards = []\n",
    "\n",
    "# For more repetitive results\n",
    "random.seed(1)\n",
    "np.random.seed(1)\n",
    "# tf.set_random_seed(1)\n",
    "tf.random.set_seed(1)\n",
    "\n",
    "# Create models folder\n",
    "if not os.path.isdir('models'):\n",
    "    os.makedirs('models')\n",
    "    \n",
    "    \n",
    "    \n",
    "    \n",
    "    # Iterate over episodes\n",
    "for episode in tqdm(range(1, EPISODES + 1), ascii=True, unit='episodes'):\n",
    "    # Update tensorboard step every episode\n",
    "    agent.tensorboard.step = episode\n",
    "\n",
    "    # Restarting episode - reset episode reward and step number\n",
    "    episode_reward = 0\n",
    "    # episode step is kept track of in environment!\n",
    "    # step = 1\n",
    "\n",
    "    # Reset environment and get initial state\n",
    "    current_state = env.reset()\n",
    "    if SHOW_PREVIEW and not episode % AGGREGATE_STATS_EVERY:\n",
    "            env.render()\n",
    "            \n",
    "    # Reset flag and start iterating until episode ends\n",
    "    done = False\n",
    "    while not done:\n",
    "        # This part stays mostly the same, the change is to query a model for Q values\n",
    "        if np.random.random() > epsilon:\n",
    "            # Get action from Q table\n",
    "            action = np.argmax(agent.get_qs(current_state))\n",
    "        else:\n",
    "            # Get random action\n",
    "            action = np.random.randint(0, env.ACTION_SPACE_SIZE)\n",
    "\n",
    "        new_state, reward, done = env.step(action)\n",
    "        \n",
    "        # Transform new continous state to new discrete state and count reward\n",
    "        episode_reward += reward\n",
    "\n",
    "\n",
    "        # Every step we update replay memory and train main network\n",
    "        # if env.episode_step % 10 == 0 or abs(reward) > 1:\n",
    "        agent.update_replay_memory((current_state, action, reward, new_state, done))\n",
    "        current_state = new_state\n",
    "        \n",
    "        # step is kept track of in environment!\n",
    "        # step += 1\n",
    "    # train after episode\n",
    "    \n",
    "        if SHOW_PREVIEW and not episode % AGGREGATE_STATS_EVERY:\n",
    "                env.render()\n",
    "        # else:\n",
    "        #     agent.train()\n",
    "    \n",
    "    \n",
    "    \n",
    "    \n",
    "    agent.train()\n",
    "        \n",
    "        \n",
    "        \n",
    "    # Append episode reward to a list and log stats (every given number of episodes)\n",
    "    ep_rewards.append(episode_reward)\n",
    "    if (episode % AGGREGATE_STATS_EVERY)==0 or episode == 1:\n",
    "        average_reward = sum(ep_rewards[-AGGREGATE_STATS_EVERY:])/len(ep_rewards[-AGGREGATE_STATS_EVERY:])\n",
    "        min_reward = min(ep_rewards[-AGGREGATE_STATS_EVERY:])\n",
    "        max_reward = max(ep_rewards[-AGGREGATE_STATS_EVERY:])\n",
    "        agent.tensorboard.update_stats(reward_avg=average_reward, reward_min=min_reward, reward_max=max_reward, epsilon=epsilon)\n",
    "        print(f'episode = {episode}: (min,avg,best) = ({min_reward},{average_reward}, {max_reward}).')\n",
    "        print(f'\\tepsilon = {epsilon}')\n",
    "        # Save model, but only when min reward is greater or equal a set value\n",
    "        if average_reward >= best_avg_award:\n",
    "            print(f'\\t!!! beat old avg award of {best_avg_award}')\n",
    "            best_avg_award = average_reward\n",
    "            agent.model.save(f'models/{MODEL_NAME}__{max_reward:_>7.2f}max_{average_reward:_>7.2f}avg_{min_reward:_>7.2f}min__{int(time.time())}.model')\n",
    "    # Decay epsilon\n",
    "    if epsilon > MIN_EPSILON:\n",
    "        epsilon *= EPSILON_DECAY\n",
    "        epsilon = max(MIN_EPSILON, epsilon)\n"
   ]
  },
  {
   "cell_type": "code",
   "execution_count": null,
   "id": "46371de3-34b2-440e-b2f9-ffd49eca04f4",
   "metadata": {},
   "outputs": [],
   "source": [
    "agent.model.save(f'models/{MODEL_NAME}__{max_reward:_>7.2f}max_{average_reward:_>7.2f}avg_{min_reward:_>7.2f}min__{int(time.time())}.model')"
   ]
  },
  {
   "cell_type": "code",
   "execution_count": null,
   "id": "49e4f34f-c2c1-4ccc-a4ce-c385918bcbc3",
   "metadata": {},
   "outputs": [],
   "source": [
    "# For stats\n",
    "# WHY IS THIS [-200]????, changed to empty list\n",
    "ep_rewards = []\n",
    "\n",
    "# For more repetitive results\n",
    "random.seed(1)\n",
    "np.random.seed(1)\n",
    "# tf.set_random_seed(1)\n",
    "tf.random.set_seed(1)\n",
    "\n",
    "# Create models folder\n",
    "if not os.path.isdir('models'):\n",
    "    os.makedirs('models')\n",
    "    \n",
    "    \n",
    "    \n",
    "    \n",
    "    # Iterate over episodes\n",
    "for episode in tqdm(range(1, EPISODES + 1), ascii=True, unit='episodes'):\n",
    "    # Update tensorboard step every episode\n",
    "    agent.tensorboard.step = episode\n",
    "\n",
    "    # Restarting episode - reset episode reward and step number\n",
    "    episode_reward = 0\n",
    "    # episode step is kept track of in environment!\n",
    "    # step = 1\n",
    "\n",
    "    # Reset environment and get initial state\n",
    "    current_state = env.reset()\n",
    "    print(f'current_state = {current_state}')\n",
    "    if SHOW_PREVIEW and not episode % AGGREGATE_STATS_EVERY:\n",
    "            env.render()\n",
    "            \n",
    "    # Reset flag and start iterating until episode ends\n",
    "    done = False\n",
    "    while not done:\n",
    "        # This part stays mostly the same, the change is to query a model for Q values\n",
    "        if np.random.random() > epsilon:\n",
    "            # Get action from Q table\n",
    "            action = np.argmax(agent.get_qs(current_state))\n",
    "        else:\n",
    "            # Get random action\n",
    "            action = np.random.randint(0, env.ACTION_SPACE_SIZE)\n",
    "\n",
    "        new_state, reward, done = env.step(action)\n",
    "        \n",
    "        # Transform new continous state to new discrete state and count reward\n",
    "        episode_reward += reward\n",
    "\n",
    "        if SHOW_PREVIEW and not episode % AGGREGATE_STATS_EVERY:\n",
    "            env.render(episode)\n",
    "\n",
    "        # Every step we update replay memory and train main network\n",
    "        # agent.update_replay_memory((current_state, action, reward, new_state, done))\n",
    "        current_state = new_state\n",
    "        \n",
    "        # step is kept track of in environment!\n",
    "        # step += 1\n",
    "    # train after episode\n",
    "    ep_rewards.append(episode_reward)"
   ]
  },
  {
   "cell_type": "code",
   "execution_count": null,
   "id": "751e3b17-0af6-4e31-8fc0-8791a3041e02",
   "metadata": {},
   "outputs": [],
   "source": [
    "ep_rewards\n"
   ]
  },
  {
   "cell_type": "code",
   "execution_count": null,
   "id": "c4e2a848-cd30-4527-abfb-079eebf3e813",
   "metadata": {},
   "outputs": [],
   "source": []
  },
  {
   "cell_type": "code",
   "execution_count": null,
   "id": "81dff16c-f362-490a-873d-a6406aab314c",
   "metadata": {},
   "outputs": [],
   "source": []
  }
 ],
 "metadata": {
  "kernelspec": {
   "display_name": "Python [conda env:workingRL2]",
   "language": "python",
   "name": "conda-env-workingRL2-py"
  },
  "language_info": {
   "codemirror_mode": {
    "name": "ipython",
    "version": 3
   },
   "file_extension": ".py",
   "mimetype": "text/x-python",
   "name": "python",
   "nbconvert_exporter": "python",
   "pygments_lexer": "ipython3",
   "version": "3.9.13"
  }
 },
 "nbformat": 4,
 "nbformat_minor": 5
}
