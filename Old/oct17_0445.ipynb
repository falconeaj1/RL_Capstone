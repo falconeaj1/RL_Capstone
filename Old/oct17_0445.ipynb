{
 "cells": [
  {
   "cell_type": "code",
   "execution_count": 1,
   "id": "2fa9b324-f141-461a-81e0-5559b9b44d53",
   "metadata": {},
   "outputs": [
    {
     "name": "stdout",
     "output_type": "stream",
     "text": [
      "pygame 2.1.0 (SDL 2.0.16, Python 3.9.13)\n",
      "Hello from the pygame community. https://www.pygame.org/contribute.html\n"
     ]
    }
   ],
   "source": [
    "import tetris_environment\n",
    "tet_env = tetris_environment.Tetris_Env()\n",
    "\n"
   ]
  },
  {
   "cell_type": "code",
   "execution_count": null,
   "id": "deb2b546-7881-410a-8ebe-37cfc9c02307",
   "metadata": {},
   "outputs": [
    {
     "name": "stdout",
     "output_type": "stream",
     "text": [
      "\t~attempting to close screens~\n",
      "after, screen = <Surface(Dead Display)>.\n"
     ]
    }
   ],
   "source": [
    "tet_env.play_game()"
   ]
  },
  {
   "cell_type": "code",
   "execution_count": null,
   "id": "106f13e7-e23d-4e9e-833e-6846a503fc8f",
   "metadata": {},
   "outputs": [],
   "source": []
  }
 ],
 "metadata": {
  "kernelspec": {
   "display_name": "Python [conda env:workingRL2]",
   "language": "python",
   "name": "conda-env-workingRL2-py"
  },
  "language_info": {
   "codemirror_mode": {
    "name": "ipython",
    "version": 3
   },
   "file_extension": ".py",
   "mimetype": "text/x-python",
   "name": "python",
   "nbconvert_exporter": "python",
   "pygments_lexer": "ipython3",
   "version": "3.9.13"
  }
 },
 "nbformat": 4,
 "nbformat_minor": 5
}
